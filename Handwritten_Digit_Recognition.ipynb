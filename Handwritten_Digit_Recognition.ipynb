{
  "nbformat": 4,
  "nbformat_minor": 0,
  "metadata": {
    "colab": {
      "provenance": [],
      "authorship_tag": "ABX9TyN+JWe3cKmQO/TZX3n/dbP3",
      "include_colab_link": true
    },
    "kernelspec": {
      "name": "python3",
      "display_name": "Python 3"
    },
    "language_info": {
      "name": "python"
    }
  },
  "cells": [
    {
      "cell_type": "markdown",
      "metadata": {
        "id": "view-in-github",
        "colab_type": "text"
      },
      "source": [
        "<a href=\"https://colab.research.google.com/github/PSivaMallikarjun/Handwritten-Digit-Recognition-using-ML-producing-Unique-Identity/blob/main/Handwritten_Digit_Recognition.ipynb\" target=\"_parent\"><img src=\"https://colab.research.google.com/assets/colab-badge.svg\" alt=\"Open In Colab\"/></a>"
      ]
    },
    {
      "cell_type": "markdown",
      "source": [
        "Steps to Implement:\n",
        "Dataset Preparation: Use the MNIST dataset for handwritten digit recognition.\n",
        "Preprocessing: Convert images to grayscale, resize them, and normalize pixel values.\n",
        "Model Selection: Use multiple models like CNN (Convolutional Neural Networks), SVM (Support Vector Machine), and Random Forest.\n",
        "Training & Evaluation: Train different models and compare accuracy.\n",
        "Unique Identification Number (UIN) Implementation: Create a UIN based on handwriting features (e.g., stroke width, inclination, or writing speed)."
      ],
      "metadata": {
        "id": "PfqzjnJySOPl"
      }
    },
    {
      "cell_type": "code",
      "execution_count": 1,
      "metadata": {
        "colab": {
          "base_uri": "https://localhost:8080/"
        },
        "id": "zFvqm-T3QpWg",
        "outputId": "28e9d21d-13f5-4068-ef76-3e16d42c3494"
      },
      "outputs": [
        {
          "output_type": "stream",
          "name": "stdout",
          "text": [
            "Downloading data from https://storage.googleapis.com/tensorflow/tf-keras-datasets/mnist.npz\n",
            "\u001b[1m11490434/11490434\u001b[0m \u001b[32m━━━━━━━━━━━━━━━━━━━━\u001b[0m\u001b[37m\u001b[0m \u001b[1m0s\u001b[0m 0us/step\n"
          ]
        },
        {
          "output_type": "stream",
          "name": "stderr",
          "text": [
            "/usr/local/lib/python3.11/dist-packages/keras/src/layers/convolutional/base_conv.py:107: UserWarning: Do not pass an `input_shape`/`input_dim` argument to a layer. When using Sequential models, prefer using an `Input(shape)` object as the first layer in the model instead.\n",
            "  super().__init__(activity_regularizer=activity_regularizer, **kwargs)\n"
          ]
        },
        {
          "output_type": "stream",
          "name": "stdout",
          "text": [
            "Epoch 1/5\n",
            "\u001b[1m1875/1875\u001b[0m \u001b[32m━━━━━━━━━━━━━━━━━━━━\u001b[0m\u001b[37m\u001b[0m \u001b[1m75s\u001b[0m 37ms/step - accuracy: 0.9076 - loss: 0.3082 - val_accuracy: 0.9819 - val_loss: 0.0574\n",
            "Epoch 2/5\n",
            "\u001b[1m1875/1875\u001b[0m \u001b[32m━━━━━━━━━━━━━━━━━━━━\u001b[0m\u001b[37m\u001b[0m \u001b[1m47s\u001b[0m 25ms/step - accuracy: 0.9838 - loss: 0.0532 - val_accuracy: 0.9827 - val_loss: 0.0533\n",
            "Epoch 3/5\n",
            "\u001b[1m1875/1875\u001b[0m \u001b[32m━━━━━━━━━━━━━━━━━━━━\u001b[0m\u001b[37m\u001b[0m \u001b[1m82s\u001b[0m 25ms/step - accuracy: 0.9900 - loss: 0.0313 - val_accuracy: 0.9849 - val_loss: 0.0464\n",
            "Epoch 4/5\n",
            "\u001b[1m1875/1875\u001b[0m \u001b[32m━━━━━━━━━━━━━━━━━━━━\u001b[0m\u001b[37m\u001b[0m \u001b[1m83s\u001b[0m 26ms/step - accuracy: 0.9930 - loss: 0.0202 - val_accuracy: 0.9852 - val_loss: 0.0464\n",
            "Epoch 5/5\n",
            "\u001b[1m1875/1875\u001b[0m \u001b[32m━━━━━━━━━━━━━━━━━━━━\u001b[0m\u001b[37m\u001b[0m \u001b[1m46s\u001b[0m 25ms/step - accuracy: 0.9960 - loss: 0.0138 - val_accuracy: 0.9863 - val_loss: 0.0446\n",
            "\u001b[1m313/313\u001b[0m \u001b[32m━━━━━━━━━━━━━━━━━━━━\u001b[0m\u001b[37m\u001b[0m \u001b[1m2s\u001b[0m 6ms/step - accuracy: 0.9823 - loss: 0.0572\n",
            "CNN Accuracy: 0.986299991607666\n",
            "SVM Accuracy: 0.9404\n",
            "Random Forest Accuracy: 0.968\n"
          ]
        }
      ],
      "source": [
        "import tensorflow as tf\n",
        "from tensorflow import keras\n",
        "import numpy as np\n",
        "import matplotlib.pyplot as plt\n",
        "from sklearn.svm import SVC\n",
        "from sklearn.ensemble import RandomForestClassifier\n",
        "from sklearn.metrics import accuracy_score\n",
        "from tensorflow.keras.models import Sequential\n",
        "from tensorflow.keras.layers import Conv2D, MaxPooling2D, Flatten, Dense\n",
        "from tensorflow.keras.datasets import mnist\n",
        "\n",
        "# Load MNIST dataset\n",
        "(X_train, y_train), (X_test, y_test) = mnist.load_data()\n",
        "\n",
        "# Preprocess Data\n",
        "X_train = X_train.reshape(-1, 28, 28, 1) / 255.0  # Normalize\n",
        "X_test = X_test.reshape(-1, 28, 28, 1) / 255.0\n",
        "\n",
        "# Convert dataset to 1D for SVM & RandomForest\n",
        "X_train_flat = X_train.reshape(len(X_train), -1)\n",
        "X_test_flat = X_test.reshape(len(X_test), -1)\n",
        "\n",
        "# Train CNN Model\n",
        "cnn_model = Sequential([\n",
        "    Conv2D(32, (3,3), activation='relu', input_shape=(28,28,1)),\n",
        "    MaxPooling2D(2,2),\n",
        "    Flatten(),\n",
        "    Dense(128, activation='relu'),\n",
        "    Dense(10, activation='softmax')\n",
        "])\n",
        "\n",
        "cnn_model.compile(optimizer='adam', loss='sparse_categorical_crossentropy', metrics=['accuracy'])\n",
        "cnn_model.fit(X_train, y_train, epochs=5, validation_data=(X_test, y_test))\n",
        "\n",
        "# Train SVM Model\n",
        "svm_model = SVC(kernel='linear')\n",
        "svm_model.fit(X_train_flat, y_train)\n",
        "svm_pred = svm_model.predict(X_test_flat)\n",
        "svm_accuracy = accuracy_score(y_test, svm_pred)\n",
        "\n",
        "# Train RandomForest Model\n",
        "rf_model = RandomForestClassifier(n_estimators=100)\n",
        "rf_model.fit(X_train_flat, y_train)\n",
        "rf_pred = rf_model.predict(X_test_flat)\n",
        "rf_accuracy = accuracy_score(y_test, rf_pred)\n",
        "\n",
        "# Print Accuracy Scores\n",
        "print(\"CNN Accuracy:\", cnn_model.evaluate(X_test, y_test)[1])\n",
        "print(\"SVM Accuracy:\", svm_accuracy)\n",
        "print(\"Random Forest Accuracy:\", rf_accuracy)\n"
      ]
    },
    {
      "cell_type": "markdown",
      "source": [
        "Steps to Implement:\n",
        "Dataset Preparation: Use the MNIST dataset for handwritten digit recognition.\n",
        "Preprocessing: Convert images to grayscale, resize them, and normalize pixel values.\n",
        "Model Selection: Use multiple models like CNN (Convolutional Neural Networks), SVM (Support Vector Machine), and Random Forest.\n",
        "Training & Evaluation: Train different models and compare accuracy.\n",
        "Unique Identification Number (UIN) Implementation: Create a UIN based on handwriting features (e.g., stroke width, inclination, or writing speed)."
      ],
      "metadata": {
        "id": "ZqWtFj4pI69R"
      }
    },
    {
      "cell_type": "markdown",
      "source": [
        "Unique Identification Number (UIN) Generation\n",
        "To generate a UIN based on handwriting features:\n",
        "\n",
        "Extract handwriting features such as stroke width, curvature, or inclination.\n",
        "Convert these features into a numerical signature.\n",
        "Assign a unique hash-based number to the individual’s handwriting.\n"
      ],
      "metadata": {
        "id": "GawUk_UfI85x"
      }
    },
    {
      "cell_type": "code",
      "source": [
        "# prompt: we will implement a software that recognizes and makes sense of the objects in the photograph by using multiple Machine Learning Models together. Thanks to this project, you will see how you can combine machine learning models and combine several models to solve complex problems. You will have solved a problem that can be used in daily life (recognition of a handwritten text by a computer) using Artificial intelligence (AI).- can we implement taking one sample\n",
        "\n",
        "import matplotlib.pyplot as plt\n",
        "import numpy as np\n",
        "# Example of UIN generation (placeholder - replace with actual feature extraction)\n",
        "def generate_uin(image):\n",
        "  # Placeholder: Replace with actual feature extraction and hashing\n",
        "  # In a real implementation, extract features like stroke width, curvature, etc.\n",
        "  # from the input image.\n",
        "  # Example:\n",
        "  # features = extract_features(image)\n",
        "  # uin = hash_features(features)\n",
        "\n",
        "  # Placeholder UIN (replace this with a real implementation)\n",
        "  uin = sum(image.flatten()) % 1000  # Very basic example. Do not use in real application\n",
        "  return uin\n",
        "\n",
        "# Get a single sample from the test set\n",
        "sample_image = X_test[0]\n",
        "sample_label = y_test[0]\n",
        "\n",
        "# Generate UIN for the sample\n",
        "sample_uin = generate_uin(sample_image)\n",
        "\n",
        "\n",
        "print(\"Sample Image Label:\", sample_label)\n",
        "print(\"Generated UIN:\", sample_uin)\n",
        "\n",
        "# Predict using the CNN model\n",
        "cnn_prediction = np.argmax(cnn_model.predict(np.expand_dims(sample_image, axis=0)))\n",
        "print(\"CNN prediction:\", cnn_prediction)\n",
        "\n",
        "# Predict using the SVM model\n",
        "svm_prediction = svm_model.predict(sample_image.reshape(1,-1))\n",
        "print(\"SVM prediction:\", svm_prediction[0])\n",
        "\n",
        "# Predict using the Random Forest model\n",
        "rf_prediction = rf_model.predict(sample_image.reshape(1,-1))\n",
        "print(\"Random Forest prediction:\", rf_prediction[0])\n",
        "\n",
        "# Display the sample image\n",
        "plt.imshow(sample_image.reshape(28, 28), cmap='gray')\n",
        "plt.title(f\"Label: {sample_label}, UIN: {sample_uin}\")\n",
        "plt.show()\n"
      ],
      "metadata": {
        "colab": {
          "base_uri": "https://localhost:8080/",
          "height": 556
        },
        "id": "V7q8sFORJVsd",
        "outputId": "4f576d41-1d36-46a1-f1c7-b01f2c334398"
      },
      "execution_count": 2,
      "outputs": [
        {
          "output_type": "stream",
          "name": "stdout",
          "text": [
            "Sample Image Label: 7\n",
            "Generated UIN: 72.36862745098043\n",
            "\u001b[1m1/1\u001b[0m \u001b[32m━━━━━━━━━━━━━━━━━━━━\u001b[0m\u001b[37m\u001b[0m \u001b[1m0s\u001b[0m 99ms/step\n",
            "CNN prediction: 7\n",
            "SVM prediction: 7\n",
            "Random Forest prediction: 7\n"
          ]
        },
        {
          "output_type": "display_data",
          "data": {
            "text/plain": [
              "<Figure size 640x480 with 1 Axes>"
            ],
            "image/png": "[encoded data removed]"
          },
          "metadata": {}
        }
      ]
    },
    {
      "cell_type": "code",
      "source": [],
      "metadata": {
        "id": "4gFzFTalIvl7"
      },
      "execution_count": null,
      "outputs": []
    }
  ]
}